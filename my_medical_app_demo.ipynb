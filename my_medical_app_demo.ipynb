{
  "nbformat": 4,
  "nbformat_minor": 2,
  "metadata": {
    "colab": {
      "name": "my_medical_app_demo.ipynb",
      "provenance": []
    },
    "kernelspec": {
      "display_name": "Python 3",
      "name": "python3"
    },
    "language_info": {
      "name": "python"
    }
  },
  "cells": [
    {
      "cell_type": "code",
      "execution_count": null,
      "source": [
        "!git clone my_medical_app_from_github"
      ],
      "outputs": [],
      "metadata": {}
    },
    {
      "cell_type": "code",
      "execution_count": null,
      "source": [
        "!pip3 install flask-ngrok\r\n",
        "!pip3 install flask-cors"
      ],
      "outputs": [],
      "metadata": {
        "colab": {
          "base_uri": "https://localhost:8080/"
        },
        "id": "8mOelLxXG279",
        "outputId": "199b4200-561f-49b9-f4fd-64c9f79fcec0"
      }
    },
    {
      "cell_type": "code",
      "execution_count": null,
      "source": [
        "import api\r\n",
        "from flask_ngrok import run_with_ngrok\r\n",
        "\r\n",
        "run_with_ngrok(api.app)\r\n",
        "api.app.run()"
      ],
      "outputs": [],
      "metadata": {
        "colab": {
          "background_save": true,
          "base_uri": "https://localhost:8080/"
        },
        "id": "V3DMKfBC6ddj",
        "outputId": "b124bd21-3e63-4aef-80b7-8a8d2ecebe6e"
      }
    }
  ]
}